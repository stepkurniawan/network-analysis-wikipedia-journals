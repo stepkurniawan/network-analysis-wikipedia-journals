{
  "nbformat": 4,
  "nbformat_minor": 0,
  "metadata": {
    "colab": {
      "name": "Stephen Network_analysis.ipynb",
      "provenance": [],
      "authorship_tag": "ABX9TyOFfd/eS2iSjRg6lqTPxp4c",
      "include_colab_link": true
    },
    "kernelspec": {
      "name": "python3",
      "display_name": "Python 3"
    },
    "language_info": {
      "name": "python"
    }
  },
  "cells": [
    {
      "cell_type": "markdown",
      "metadata": {
        "id": "view-in-github",
        "colab_type": "text"
      },
      "source": [
        "<a href=\"https://colab.research.google.com/github/stepkurniawan/network-analysis-wikipedia-journals/blob/main/Stephen_Network_analysis.ipynb\" target=\"_parent\"><img src=\"https://colab.research.google.com/assets/colab-badge.svg\" alt=\"Open In Colab\"/></a>"
      ]
    },
    {
      "cell_type": "code",
      "execution_count": null,
      "metadata": {
        "id": "2HldCp-4fIQU"
      },
      "outputs": [],
      "source": [
        ""
      ]
    }
  ]
}