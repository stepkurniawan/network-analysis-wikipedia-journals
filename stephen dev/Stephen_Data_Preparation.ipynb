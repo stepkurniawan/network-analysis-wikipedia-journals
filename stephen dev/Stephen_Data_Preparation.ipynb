{
  "nbformat": 4,
  "nbformat_minor": 0,
  "metadata": {
    "colab": {
      "name": "Stephen Data Preparation.ipynb",
      "provenance": [],
      "authorship_tag": "ABX9TyPGUSGKSutcr03nIy795TbY",
      "include_colab_link": true
    },
    "kernelspec": {
      "name": "python3",
      "display_name": "Python 3"
    },
    "language_info": {
      "name": "python"
    }
  },
  "cells": [
    {
      "cell_type": "markdown",
      "metadata": {
        "id": "view-in-github",
        "colab_type": "text"
      },
      "source": [
        "<a href=\"https://colab.research.google.com/github/stepkurniawan/network-analysis-wikipedia-journals/blob/main/Stephen_Data_Preparation.ipynb\" target=\"_parent\"><img src=\"https://colab.research.google.com/assets/colab-badge.svg\" alt=\"Open In Colab\"/></a>"
      ]
    },
    {
      "cell_type": "code",
      "source": [
        "! git clone https://github.com/stepkurniawan/network-analysis-wikipedia-journals.git"
      ],
      "metadata": {
        "colab": {
          "base_uri": "https://localhost:8080/"
        },
        "id": "0NfsJQ_7S-8x",
        "outputId": "1ac86074-27ed-40c6-adc4-1cdd8fdae908"
      },
      "execution_count": 1,
      "outputs": [
        {
          "output_type": "stream",
          "name": "stdout",
          "text": [
            "Cloning into 'network-analysis-wikipedia-journals'...\n",
            "remote: Enumerating objects: 7, done.\u001b[K\n",
            "remote: Counting objects: 100% (7/7), done.\u001b[K\n",
            "remote: Compressing objects: 100% (7/7), done.\u001b[K\n",
            "remote: Total 7 (delta 1), reused 3 (delta 0), pack-reused 0\u001b[K\n",
            "Unpacking objects: 100% (7/7), done.\n"
          ]
        }
      ]
    },
    {
      "cell_type": "code",
      "execution_count": null,
      "metadata": {
        "id": "OtDmcBz0QoIk"
      },
      "outputs": [],
      "source": [
        "import pandas as pd\n",
        "import numpy as np\n"
      ]
    },
    {
      "cell_type": "code",
      "source": [
        "df_journal = pd.read_csv('/content/network-analysis-wikipedia-journals/df_journal.csv')"
      ],
      "metadata": {
        "id": "3H-2voUxQwhU"
      },
      "execution_count": null,
      "outputs": []
    },
    {
      "cell_type": "code",
      "source": [
        "df_journal"
      ],
      "metadata": {
        "colab": {
          "base_uri": "https://localhost:8080/",
          "height": 424
        },
        "id": "waWuwa0IRgUr",
        "outputId": "664e5dcd-079b-47f3-ac9c-3b2eba53c838"
      },
      "execution_count": null,
      "outputs": [
        {
          "output_type": "execute_result",
          "data": {
            "text/plain": [
              "         Unnamed: 0                               page_title  \\\n",
              "0              3777                            Overdeepening   \n",
              "1              3778                                Ballitore   \n",
              "2              3779                                 Straffan   \n",
              "3              3780  The True Confessions of Charlotte Doyle   \n",
              "4              3781            Carbohydrate sulfotransferase   \n",
              "...             ...                                      ...   \n",
              "1569775    29181994          The Origins of the Urban Crisis   \n",
              "1569776    29181995                                   Laelia   \n",
              "1569777    29181996                       Muscle contraction   \n",
              "1569778    29181998                             Darrell Issa   \n",
              "1569779    29182000                                Chia seed   \n",
              "\n",
              "                               journal_name  \n",
              "0                         Special Paper 337  \n",
              "1               The Economic History Review  \n",
              "2               The Economic History Review  \n",
              "3                    The Horn Book Magazine  \n",
              "4                                   FASEB J  \n",
              "...                                     ...  \n",
              "1569775  The Journal for MultiMedia History  \n",
              "1569776                          Lindleyana  \n",
              "1569777                     Br J Sports Med  \n",
              "1569778      Open Medicine (John Willinsky)  \n",
              "1569779                           Nutr Hosp  \n",
              "\n",
              "[1569780 rows x 3 columns]"
            ],
            "text/html": [
              "\n",
              "  <div id=\"df-8f9c6c33-b2fa-4cae-8686-2818bfc2bb0e\">\n",
              "    <div class=\"colab-df-container\">\n",
              "      <div>\n",
              "<style scoped>\n",
              "    .dataframe tbody tr th:only-of-type {\n",
              "        vertical-align: middle;\n",
              "    }\n",
              "\n",
              "    .dataframe tbody tr th {\n",
              "        vertical-align: top;\n",
              "    }\n",
              "\n",
              "    .dataframe thead th {\n",
              "        text-align: right;\n",
              "    }\n",
              "</style>\n",
              "<table border=\"1\" class=\"dataframe\">\n",
              "  <thead>\n",
              "    <tr style=\"text-align: right;\">\n",
              "      <th></th>\n",
              "      <th>Unnamed: 0</th>\n",
              "      <th>page_title</th>\n",
              "      <th>journal_name</th>\n",
              "    </tr>\n",
              "  </thead>\n",
              "  <tbody>\n",
              "    <tr>\n",
              "      <th>0</th>\n",
              "      <td>3777</td>\n",
              "      <td>Overdeepening</td>\n",
              "      <td>Special Paper 337</td>\n",
              "    </tr>\n",
              "    <tr>\n",
              "      <th>1</th>\n",
              "      <td>3778</td>\n",
              "      <td>Ballitore</td>\n",
              "      <td>The Economic History Review</td>\n",
              "    </tr>\n",
              "    <tr>\n",
              "      <th>2</th>\n",
              "      <td>3779</td>\n",
              "      <td>Straffan</td>\n",
              "      <td>The Economic History Review</td>\n",
              "    </tr>\n",
              "    <tr>\n",
              "      <th>3</th>\n",
              "      <td>3780</td>\n",
              "      <td>The True Confessions of Charlotte Doyle</td>\n",
              "      <td>The Horn Book Magazine</td>\n",
              "    </tr>\n",
              "    <tr>\n",
              "      <th>4</th>\n",
              "      <td>3781</td>\n",
              "      <td>Carbohydrate sulfotransferase</td>\n",
              "      <td>FASEB J</td>\n",
              "    </tr>\n",
              "    <tr>\n",
              "      <th>...</th>\n",
              "      <td>...</td>\n",
              "      <td>...</td>\n",
              "      <td>...</td>\n",
              "    </tr>\n",
              "    <tr>\n",
              "      <th>1569775</th>\n",
              "      <td>29181994</td>\n",
              "      <td>The Origins of the Urban Crisis</td>\n",
              "      <td>The Journal for MultiMedia History</td>\n",
              "    </tr>\n",
              "    <tr>\n",
              "      <th>1569776</th>\n",
              "      <td>29181995</td>\n",
              "      <td>Laelia</td>\n",
              "      <td>Lindleyana</td>\n",
              "    </tr>\n",
              "    <tr>\n",
              "      <th>1569777</th>\n",
              "      <td>29181996</td>\n",
              "      <td>Muscle contraction</td>\n",
              "      <td>Br J Sports Med</td>\n",
              "    </tr>\n",
              "    <tr>\n",
              "      <th>1569778</th>\n",
              "      <td>29181998</td>\n",
              "      <td>Darrell Issa</td>\n",
              "      <td>Open Medicine (John Willinsky)</td>\n",
              "    </tr>\n",
              "    <tr>\n",
              "      <th>1569779</th>\n",
              "      <td>29182000</td>\n",
              "      <td>Chia seed</td>\n",
              "      <td>Nutr Hosp</td>\n",
              "    </tr>\n",
              "  </tbody>\n",
              "</table>\n",
              "<p>1569780 rows × 3 columns</p>\n",
              "</div>\n",
              "      <button class=\"colab-df-convert\" onclick=\"convertToInteractive('df-8f9c6c33-b2fa-4cae-8686-2818bfc2bb0e')\"\n",
              "              title=\"Convert this dataframe to an interactive table.\"\n",
              "              style=\"display:none;\">\n",
              "        \n",
              "  <svg xmlns=\"http://www.w3.org/2000/svg\" height=\"24px\"viewBox=\"0 0 24 24\"\n",
              "       width=\"24px\">\n",
              "    <path d=\"M0 0h24v24H0V0z\" fill=\"none\"/>\n",
              "    <path d=\"M18.56 5.44l.94 2.06.94-2.06 2.06-.94-2.06-.94-.94-2.06-.94 2.06-2.06.94zm-11 1L8.5 8.5l.94-2.06 2.06-.94-2.06-.94L8.5 2.5l-.94 2.06-2.06.94zm10 10l.94 2.06.94-2.06 2.06-.94-2.06-.94-.94-2.06-.94 2.06-2.06.94z\"/><path d=\"M17.41 7.96l-1.37-1.37c-.4-.4-.92-.59-1.43-.59-.52 0-1.04.2-1.43.59L10.3 9.45l-7.72 7.72c-.78.78-.78 2.05 0 2.83L4 21.41c.39.39.9.59 1.41.59.51 0 1.02-.2 1.41-.59l7.78-7.78 2.81-2.81c.8-.78.8-2.07 0-2.86zM5.41 20L4 18.59l7.72-7.72 1.47 1.35L5.41 20z\"/>\n",
              "  </svg>\n",
              "      </button>\n",
              "      \n",
              "  <style>\n",
              "    .colab-df-container {\n",
              "      display:flex;\n",
              "      flex-wrap:wrap;\n",
              "      gap: 12px;\n",
              "    }\n",
              "\n",
              "    .colab-df-convert {\n",
              "      background-color: #E8F0FE;\n",
              "      border: none;\n",
              "      border-radius: 50%;\n",
              "      cursor: pointer;\n",
              "      display: none;\n",
              "      fill: #1967D2;\n",
              "      height: 32px;\n",
              "      padding: 0 0 0 0;\n",
              "      width: 32px;\n",
              "    }\n",
              "\n",
              "    .colab-df-convert:hover {\n",
              "      background-color: #E2EBFA;\n",
              "      box-shadow: 0px 1px 2px rgba(60, 64, 67, 0.3), 0px 1px 3px 1px rgba(60, 64, 67, 0.15);\n",
              "      fill: #174EA6;\n",
              "    }\n",
              "\n",
              "    [theme=dark] .colab-df-convert {\n",
              "      background-color: #3B4455;\n",
              "      fill: #D2E3FC;\n",
              "    }\n",
              "\n",
              "    [theme=dark] .colab-df-convert:hover {\n",
              "      background-color: #434B5C;\n",
              "      box-shadow: 0px 1px 3px 1px rgba(0, 0, 0, 0.15);\n",
              "      filter: drop-shadow(0px 1px 2px rgba(0, 0, 0, 0.3));\n",
              "      fill: #FFFFFF;\n",
              "    }\n",
              "  </style>\n",
              "\n",
              "      <script>\n",
              "        const buttonEl =\n",
              "          document.querySelector('#df-8f9c6c33-b2fa-4cae-8686-2818bfc2bb0e button.colab-df-convert');\n",
              "        buttonEl.style.display =\n",
              "          google.colab.kernel.accessAllowed ? 'block' : 'none';\n",
              "\n",
              "        async function convertToInteractive(key) {\n",
              "          const element = document.querySelector('#df-8f9c6c33-b2fa-4cae-8686-2818bfc2bb0e');\n",
              "          const dataTable =\n",
              "            await google.colab.kernel.invokeFunction('convertToInteractive',\n",
              "                                                     [key], {});\n",
              "          if (!dataTable) return;\n",
              "\n",
              "          const docLinkHtml = 'Like what you see? Visit the ' +\n",
              "            '<a target=\"_blank\" href=https://colab.research.google.com/notebooks/data_table.ipynb>data table notebook</a>'\n",
              "            + ' to learn more about interactive tables.';\n",
              "          element.innerHTML = '';\n",
              "          dataTable['output_type'] = 'display_data';\n",
              "          await google.colab.output.renderOutput(dataTable, element);\n",
              "          const docLink = document.createElement('div');\n",
              "          docLink.innerHTML = docLinkHtml;\n",
              "          element.appendChild(docLink);\n",
              "        }\n",
              "      </script>\n",
              "    </div>\n",
              "  </div>\n",
              "  "
            ]
          },
          "metadata": {},
          "execution_count": 15
        }
      ]
    },
    {
      "cell_type": "code",
      "source": [
        ""
      ],
      "metadata": {
        "id": "Q3mDkf9gTrvr"
      },
      "execution_count": null,
      "outputs": []
    }
  ]
}