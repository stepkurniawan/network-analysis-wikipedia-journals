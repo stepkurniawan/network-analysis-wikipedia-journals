{
  "cells": [
    {
      "cell_type": "markdown",
      "metadata": {
        "id": "view-in-github",
        "colab_type": "text"
      },
      "source": [
        "<a href=\"https://colab.research.google.com/github/stepkurniawan/network-analysis-wikipedia-journals/blob/main/2_Data_preparation.ipynb\" target=\"_parent\"><img src=\"https://colab.research.google.com/assets/colab-badge.svg\" alt=\"Open In Colab\"/></a>"
      ]
    },
    {
      "cell_type": "code",
      "execution_count": 4,
      "id": "2d9af8de-1b05-44bb-8895-e63d0857b4cb",
      "metadata": {
        "id": "2d9af8de-1b05-44bb-8895-e63d0857b4cb"
      },
      "outputs": [],
      "source": [
        "import networkx as nx\n",
        "import numpy as np\n",
        "import pandas as pd\n",
        "import matplotlib.pyplot as plt\n",
        "plt.style.use('seaborn')\n",
        "%matplotlib inline\n",
        "import warnings\n",
        "warnings.filterwarnings('ignore')\n",
        "import itertools"
      ]
    },
    {
      "cell_type": "code",
      "execution_count": 6,
      "id": "7959d88d-015c-4b85-96e5-46620e91ba28",
      "metadata": {
        "colab": {
          "base_uri": "https://localhost:8080/",
          "height": 166
        },
        "id": "7959d88d-015c-4b85-96e5-46620e91ba28",
        "outputId": "94b4748c-a619-4952-968a-fe464f6e37c4"
      },
      "outputs": [
        {
          "output_type": "error",
          "ename": "NameError",
          "evalue": "ignored",
          "traceback": [
            "\u001b[0;31m---------------------------------------------------------------------------\u001b[0m",
            "\u001b[0;31mNameError\u001b[0m                                 Traceback (most recent call last)",
            "\u001b[0;32m<ipython-input-6-59a175f5ce9c>\u001b[0m in \u001b[0;36m<module>\u001b[0;34m()\u001b[0m\n\u001b[0;32m----> 1\u001b[0;31m \u001b[0mdf_journal\u001b[0m\u001b[0;34m.\u001b[0m\u001b[0mcolumns\u001b[0m\u001b[0;34m\u001b[0m\u001b[0;34m\u001b[0m\u001b[0m\n\u001b[0m",
            "\u001b[0;31mNameError\u001b[0m: name 'df_journal' is not defined"
          ]
        }
      ],
      "source": [
        "df_journal.columns"
      ]
    },
    {
      "cell_type": "code",
      "execution_count": null,
      "id": "d1e28e26-5074-4572-8934-829bf17e916a",
      "metadata": {
        "id": "d1e28e26-5074-4572-8934-829bf17e916a"
      },
      "outputs": [],
      "source": [
        "g = nx.Graph()"
      ]
    },
    {
      "cell_type": "code",
      "execution_count": null,
      "id": "dc8b0dc1-ef63-4dda-9b20-770f4dbde44e",
      "metadata": {
        "id": "dc8b0dc1-ef63-4dda-9b20-770f4dbde44e"
      },
      "outputs": [],
      "source": [
        "def draw_network(graph, seed=42):\n",
        "    nx.draw(graph, pos=nx.spring_layout(graph, seed=seed),\n",
        "            with_labels=True, node_size=1000)"
      ]
    },
    {
      "cell_type": "code",
      "execution_count": null,
      "id": "82086f6c-1ffc-47bc-892d-1303c21190fc",
      "metadata": {
        "id": "82086f6c-1ffc-47bc-892d-1303c21190fc"
      },
      "outputs": [],
      "source": [
        "g.add_edges_from([['Stephen', 'Jenya'], ['Stephen', 'Beka'], ['Beka', 'Jenya']])\n",
        "g.add_edges_from([['Stephen', 'Jenya'], ['Stephen', 'Jenya']])\n",
        "g.add_nodes_from(['A'])\n",
        "#, 'Jenya'], ['Stephen', 'Beka'], ['Beka', 'Jenya']])\n",
        "draw_network(g)"
      ]
    },
    {
      "cell_type": "code",
      "execution_count": null,
      "id": "0e99fde7-94fe-49c7-85aa-161584ad48da",
      "metadata": {
        "id": "0e99fde7-94fe-49c7-85aa-161584ad48da"
      },
      "outputs": [],
      "source": [
        "df_journal = pd.read_csv('df_journal.csv')\n",
        "df_journal"
      ]
    },
    {
      "cell_type": "code",
      "execution_count": null,
      "id": "09d6180f-ea01-4a28-a1e1-1102f63eb210",
      "metadata": {
        "id": "09d6180f-ea01-4a28-a1e1-1102f63eb210"
      },
      "outputs": [],
      "source": [
        "df_journal.nunique()"
      ]
    },
    {
      "cell_type": "code",
      "execution_count": null,
      "id": "e67bdb84-6d42-4c6b-9b8d-ffb9ff4370b5",
      "metadata": {
        "id": "e67bdb84-6d42-4c6b-9b8d-ffb9ff4370b5"
      },
      "outputs": [],
      "source": [
        "#G = nx.from_pandas_edgelist(df_journal, 'page_title', 'journal_name')"
      ]
    },
    {
      "cell_type": "code",
      "execution_count": null,
      "id": "bfe3156b-683b-4959-be54-975bb11c7eb6",
      "metadata": {
        "id": "bfe3156b-683b-4959-be54-975bb11c7eb6"
      },
      "outputs": [],
      "source": [
        "# from matplotlib.pyplot import figure\n",
        "# figure(figsize=(10, 8))\n",
        "# nx.draw_shell(G, with_labels=True)"
      ]
    },
    {
      "cell_type": "code",
      "execution_count": null,
      "id": "42264cba-862f-44b4-bc04-53614c259396",
      "metadata": {
        "id": "42264cba-862f-44b4-bc04-53614c259396"
      },
      "outputs": [],
      "source": [
        "df_sample_journal_data = pd.DataFrame(np.array([['p1', 'j1'],['p1', 'j2'], ['p1', 'j3'], ['p2', 'j1'], ['p2', 'j2']]),\n",
        "                   columns=['page_title', 'journal_name'])\n",
        "df_sample_journal_data"
      ]
    },
    {
      "cell_type": "code",
      "execution_count": null,
      "id": "31dbecf6-339f-4657-89b2-81f66de820b4",
      "metadata": {
        "id": "31dbecf6-339f-4657-89b2-81f66de820b4"
      },
      "outputs": [],
      "source": [
        "# df_groupby = df_sample_journal_data.groupby('page_title')['journal_name'].apply(lambda x: ', '.join(x))\n",
        "df_groupby = df_sample_journal_data.groupby('page_title')['journal_name'].apply(list)\n",
        "\n",
        "df_groupby"
      ]
    },
    {
      "cell_type": "code",
      "execution_count": null,
      "id": "57eb117a-e222-4458-b7b8-ea72349fbf75",
      "metadata": {
        "id": "57eb117a-e222-4458-b7b8-ea72349fbf75"
      },
      "outputs": [],
      "source": [
        "iterations_sample = itertools.combinations(df_groupby['p1'], 2)\n",
        "print(iterations_sample)\n",
        "for i in iterations_sample:\n",
        "    print(i)"
      ]
    },
    {
      "cell_type": "code",
      "execution_count": null,
      "id": "41be45ff-ceb0-4d5e-aac3-f9d49386d483",
      "metadata": {
        "id": "41be45ff-ceb0-4d5e-aac3-f9d49386d483"
      },
      "outputs": [],
      "source": [
        ""
      ]
    },
    {
      "cell_type": "code",
      "execution_count": null,
      "id": "8b51c3f2-bf90-4587-a215-8057fcf4faa3",
      "metadata": {
        "id": "8b51c3f2-bf90-4587-a215-8057fcf4faa3"
      },
      "outputs": [],
      "source": [
        "df_groupby = df_journal.groupby('page_title')['journal_name'].apply(list)\n",
        "df_groupby"
      ]
    },
    {
      "cell_type": "code",
      "execution_count": null,
      "id": "f0d36998-e673-4f53-99aa-afca6f2d3cea",
      "metadata": {
        "id": "f0d36998-e673-4f53-99aa-afca6f2d3cea"
      },
      "outputs": [],
      "source": [
        "# find combination of all the journal name\n",
        "\n",
        "iterations = itertools.combinations(df_groupby[2], 2)\n",
        "\n",
        "for combi in iterations: \n",
        "    print(combi)"
      ]
    },
    {
      "cell_type": "code",
      "execution_count": null,
      "id": "cce7e8f4-4c85-4f65-9c88-61426a6fc93d",
      "metadata": {
        "id": "cce7e8f4-4c85-4f65-9c88-61426a6fc93d"
      },
      "outputs": [],
      "source": [
        ""
      ]
    },
    {
      "cell_type": "code",
      "execution_count": null,
      "id": "800b3609-360d-43c7-b819-95b409a9714f",
      "metadata": {
        "id": "800b3609-360d-43c7-b819-95b409a9714f"
      },
      "outputs": [],
      "source": [
        "# make list iterations based on the combinations\n",
        "\n",
        "journal_relation_list = []\n",
        "\n",
        "for page in range(len(df_groupby)):\n",
        "    iterations = itertools.combinations(df_groupby[page], 2)\n",
        "    for iter in iterations:\n",
        "        journal_relation_list.append(iter)\n",
        "\n",
        "#journal_relation_list\n"
      ]
    },
    {
      "cell_type": "code",
      "execution_count": null,
      "id": "d009a2eb-639c-46d0-a6e3-d57f4ce55f14",
      "metadata": {
        "id": "d009a2eb-639c-46d0-a6e3-d57f4ce55f14"
      },
      "outputs": [],
      "source": [
        "df1 = pd.DataFrame (journal_relation_list, columns = ['journal1', 'journal2'])\n",
        "\n",
        "df1"
      ]
    },
    {
      "cell_type": "code",
      "execution_count": null,
      "id": "ae2635c8-cb1b-47f0-ac4e-e632c5a96dbd",
      "metadata": {
        "id": "ae2635c8-cb1b-47f0-ac4e-e632c5a96dbd"
      },
      "outputs": [],
      "source": [
        "df1['journal1'] = df1['journal1'].astype(str)\n",
        "df1['journal2'] = df1['journal2'].astype(str)\n",
        "df1"
      ]
    },
    {
      "cell_type": "code",
      "execution_count": null,
      "id": "f0855df8-d5fa-4d77-9462-b740417753be",
      "metadata": {
        "id": "f0855df8-d5fa-4d77-9462-b740417753be"
      },
      "outputs": [],
      "source": [
        "df2 = df1[['journal1','journal2']] = pd.DataFrame(np.sort(df1[['journal1','journal2']].values), \n",
        "                                 index=df1.index, columns=['journal1','journal2'])\n",
        "df2"
      ]
    },
    {
      "cell_type": "code",
      "execution_count": null,
      "id": "2d348526-3261-4e04-a97c-d10cbeddf35d",
      "metadata": {
        "id": "2d348526-3261-4e04-a97c-d10cbeddf35d"
      },
      "outputs": [],
      "source": [
        "df3 = df2[['journal1', 'journal2']].value_counts().reset_index(name='Weight')\n",
        "df3"
      ]
    },
    {
      "cell_type": "code",
      "execution_count": null,
      "id": "56bd3eec-5f3a-40e7-854f-dbcf33e5990c",
      "metadata": {
        "id": "56bd3eec-5f3a-40e7-854f-dbcf33e5990c"
      },
      "outputs": [],
      "source": [
        "df3 = df3[df3.Weight>=200]\n",
        "df3"
      ]
    },
    {
      "cell_type": "code",
      "execution_count": null,
      "id": "1004af37-f179-4d0f-9756-bf6570acd24c",
      "metadata": {
        "id": "1004af37-f179-4d0f-9756-bf6570acd24c"
      },
      "outputs": [],
      "source": [
        "df3.hist(column='Weight')"
      ]
    }
  ],
  "metadata": {
    "kernelspec": {
      "display_name": "Python 3 (ipykernel)",
      "language": "python",
      "name": "python3"
    },
    "language_info": {
      "codemirror_mode": {
        "name": "ipython",
        "version": 3
      },
      "file_extension": ".py",
      "mimetype": "text/x-python",
      "name": "python",
      "nbconvert_exporter": "python",
      "pygments_lexer": "ipython3",
      "version": "3.9.7"
    },
    "colab": {
      "name": "2_Network_coding.ipynb",
      "provenance": [],
      "include_colab_link": true
    }
  },
  "nbformat": 4,
  "nbformat_minor": 5
}