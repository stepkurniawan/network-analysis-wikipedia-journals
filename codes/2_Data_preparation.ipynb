{
  "cells": [
    {
      "cell_type": "markdown",
      "metadata": {
        "id": "view-in-github",
        "colab_type": "text"
      },
      "source": [
        "<a href=\"https://colab.research.google.com/github/stepkurniawan/network-analysis-wikipedia-journals/blob/main/codes/2_Data_preparation.ipynb\" target=\"_parent\"><img src=\"https://colab.research.google.com/assets/colab-badge.svg\" alt=\"Open In Colab\"/></a>"
      ]
    },
    {
      "cell_type": "code",
      "execution_count": 1,
      "id": "2d9af8de-1b05-44bb-8895-e63d0857b4cb",
      "metadata": {
        "id": "2d9af8de-1b05-44bb-8895-e63d0857b4cb"
      },
      "outputs": [],
      "source": [
        "import networkx as nx\n",
        "import numpy as np\n",
        "import pandas as pd\n",
        "import matplotlib.pyplot as plt\n",
        "plt.style.use('seaborn')\n",
        "%matplotlib inline\n",
        "import warnings\n",
        "warnings.filterwarnings('ignore')\n",
        "import itertools"
      ]
    },
    {
      "cell_type": "code",
      "source": [
        "# run this in colab \n",
        "! git clone https://github.com/stepkurniawan/network-analysis-wikipedia-journals.git\n",
        "df_journal = pd.read_csv('/content/network-analysis-wikipedia-journals/df_journal.csv')"
      ],
      "metadata": {
        "colab": {
          "base_uri": "https://localhost:8080/",
          "height": 450
        },
        "id": "JYdftneMrQBT",
        "outputId": "b6e5635a-d921-48da-bd07-93f52ce2ccc8"
      },
      "id": "JYdftneMrQBT",
      "execution_count": 3,
      "outputs": [
        {
          "output_type": "stream",
          "name": "stdout",
          "text": [
            "Cloning into 'network-analysis-wikipedia-journals'...\n",
            "remote: Enumerating objects: 92, done.\u001b[K\n",
            "remote: Counting objects: 100% (21/21), done.\u001b[K\n",
            "remote: Compressing objects: 100% (15/15), done.\u001b[K\n",
            "remote: Total 92 (delta 8), reused 17 (delta 6), pack-reused 71\u001b[K\n",
            "Unpacking objects: 100% (92/92), done.\n"
          ]
        },
        {
          "output_type": "error",
          "ename": "FileNotFoundError",
          "evalue": "ignored",
          "traceback": [
            "\u001b[0;31m---------------------------------------------------------------------------\u001b[0m",
            "\u001b[0;31mFileNotFoundError\u001b[0m                         Traceback (most recent call last)",
            "\u001b[0;32m<ipython-input-3-2fbee54faada>\u001b[0m in \u001b[0;36m<module>\u001b[0;34m()\u001b[0m\n\u001b[1;32m      1\u001b[0m \u001b[0;31m# run this in colab\u001b[0m\u001b[0;34m\u001b[0m\u001b[0;34m\u001b[0m\u001b[0;34m\u001b[0m\u001b[0m\n\u001b[1;32m      2\u001b[0m \u001b[0mget_ipython\u001b[0m\u001b[0;34m(\u001b[0m\u001b[0;34m)\u001b[0m\u001b[0;34m.\u001b[0m\u001b[0msystem\u001b[0m\u001b[0;34m(\u001b[0m\u001b[0;34m' git clone https://github.com/stepkurniawan/network-analysis-wikipedia-journals.git'\u001b[0m\u001b[0;34m)\u001b[0m\u001b[0;34m\u001b[0m\u001b[0;34m\u001b[0m\u001b[0m\n\u001b[0;32m----> 3\u001b[0;31m \u001b[0mdf_journal\u001b[0m \u001b[0;34m=\u001b[0m \u001b[0mpd\u001b[0m\u001b[0;34m.\u001b[0m\u001b[0mread_csv\u001b[0m\u001b[0;34m(\u001b[0m\u001b[0;34m'/content/network-analysis-wikipedia-journals/df_journal.csv'\u001b[0m\u001b[0;34m)\u001b[0m\u001b[0;34m\u001b[0m\u001b[0;34m\u001b[0m\u001b[0m\n\u001b[0m",
            "\u001b[0;32m/usr/local/lib/python3.7/dist-packages/pandas/util/_decorators.py\u001b[0m in \u001b[0;36mwrapper\u001b[0;34m(*args, **kwargs)\u001b[0m\n\u001b[1;32m    309\u001b[0m                     \u001b[0mstacklevel\u001b[0m\u001b[0;34m=\u001b[0m\u001b[0mstacklevel\u001b[0m\u001b[0;34m,\u001b[0m\u001b[0;34m\u001b[0m\u001b[0;34m\u001b[0m\u001b[0m\n\u001b[1;32m    310\u001b[0m                 )\n\u001b[0;32m--> 311\u001b[0;31m             \u001b[0;32mreturn\u001b[0m \u001b[0mfunc\u001b[0m\u001b[0;34m(\u001b[0m\u001b[0;34m*\u001b[0m\u001b[0margs\u001b[0m\u001b[0;34m,\u001b[0m \u001b[0;34m**\u001b[0m\u001b[0mkwargs\u001b[0m\u001b[0;34m)\u001b[0m\u001b[0;34m\u001b[0m\u001b[0;34m\u001b[0m\u001b[0m\n\u001b[0m\u001b[1;32m    312\u001b[0m \u001b[0;34m\u001b[0m\u001b[0m\n\u001b[1;32m    313\u001b[0m         \u001b[0;32mreturn\u001b[0m \u001b[0mwrapper\u001b[0m\u001b[0;34m\u001b[0m\u001b[0;34m\u001b[0m\u001b[0m\n",
            "\u001b[0;32m/usr/local/lib/python3.7/dist-packages/pandas/io/parsers/readers.py\u001b[0m in \u001b[0;36mread_csv\u001b[0;34m(filepath_or_buffer, sep, delimiter, header, names, index_col, usecols, squeeze, prefix, mangle_dupe_cols, dtype, engine, converters, true_values, false_values, skipinitialspace, skiprows, skipfooter, nrows, na_values, keep_default_na, na_filter, verbose, skip_blank_lines, parse_dates, infer_datetime_format, keep_date_col, date_parser, dayfirst, cache_dates, iterator, chunksize, compression, thousands, decimal, lineterminator, quotechar, quoting, doublequote, escapechar, comment, encoding, encoding_errors, dialect, error_bad_lines, warn_bad_lines, on_bad_lines, delim_whitespace, low_memory, memory_map, float_precision, storage_options)\u001b[0m\n\u001b[1;32m    584\u001b[0m     \u001b[0mkwds\u001b[0m\u001b[0;34m.\u001b[0m\u001b[0mupdate\u001b[0m\u001b[0;34m(\u001b[0m\u001b[0mkwds_defaults\u001b[0m\u001b[0;34m)\u001b[0m\u001b[0;34m\u001b[0m\u001b[0;34m\u001b[0m\u001b[0m\n\u001b[1;32m    585\u001b[0m \u001b[0;34m\u001b[0m\u001b[0m\n\u001b[0;32m--> 586\u001b[0;31m     \u001b[0;32mreturn\u001b[0m \u001b[0m_read\u001b[0m\u001b[0;34m(\u001b[0m\u001b[0mfilepath_or_buffer\u001b[0m\u001b[0;34m,\u001b[0m \u001b[0mkwds\u001b[0m\u001b[0;34m)\u001b[0m\u001b[0;34m\u001b[0m\u001b[0;34m\u001b[0m\u001b[0m\n\u001b[0m\u001b[1;32m    587\u001b[0m \u001b[0;34m\u001b[0m\u001b[0m\n\u001b[1;32m    588\u001b[0m \u001b[0;34m\u001b[0m\u001b[0m\n",
            "\u001b[0;32m/usr/local/lib/python3.7/dist-packages/pandas/io/parsers/readers.py\u001b[0m in \u001b[0;36m_read\u001b[0;34m(filepath_or_buffer, kwds)\u001b[0m\n\u001b[1;32m    480\u001b[0m \u001b[0;34m\u001b[0m\u001b[0m\n\u001b[1;32m    481\u001b[0m     \u001b[0;31m# Create the parser.\u001b[0m\u001b[0;34m\u001b[0m\u001b[0;34m\u001b[0m\u001b[0;34m\u001b[0m\u001b[0m\n\u001b[0;32m--> 482\u001b[0;31m     \u001b[0mparser\u001b[0m \u001b[0;34m=\u001b[0m \u001b[0mTextFileReader\u001b[0m\u001b[0;34m(\u001b[0m\u001b[0mfilepath_or_buffer\u001b[0m\u001b[0;34m,\u001b[0m \u001b[0;34m**\u001b[0m\u001b[0mkwds\u001b[0m\u001b[0;34m)\u001b[0m\u001b[0;34m\u001b[0m\u001b[0;34m\u001b[0m\u001b[0m\n\u001b[0m\u001b[1;32m    483\u001b[0m \u001b[0;34m\u001b[0m\u001b[0m\n\u001b[1;32m    484\u001b[0m     \u001b[0;32mif\u001b[0m \u001b[0mchunksize\u001b[0m \u001b[0;32mor\u001b[0m \u001b[0miterator\u001b[0m\u001b[0;34m:\u001b[0m\u001b[0;34m\u001b[0m\u001b[0;34m\u001b[0m\u001b[0m\n",
            "\u001b[0;32m/usr/local/lib/python3.7/dist-packages/pandas/io/parsers/readers.py\u001b[0m in \u001b[0;36m__init__\u001b[0;34m(self, f, engine, **kwds)\u001b[0m\n\u001b[1;32m    809\u001b[0m             \u001b[0mself\u001b[0m\u001b[0;34m.\u001b[0m\u001b[0moptions\u001b[0m\u001b[0;34m[\u001b[0m\u001b[0;34m\"has_index_names\"\u001b[0m\u001b[0;34m]\u001b[0m \u001b[0;34m=\u001b[0m \u001b[0mkwds\u001b[0m\u001b[0;34m[\u001b[0m\u001b[0;34m\"has_index_names\"\u001b[0m\u001b[0;34m]\u001b[0m\u001b[0;34m\u001b[0m\u001b[0;34m\u001b[0m\u001b[0m\n\u001b[1;32m    810\u001b[0m \u001b[0;34m\u001b[0m\u001b[0m\n\u001b[0;32m--> 811\u001b[0;31m         \u001b[0mself\u001b[0m\u001b[0;34m.\u001b[0m\u001b[0m_engine\u001b[0m \u001b[0;34m=\u001b[0m \u001b[0mself\u001b[0m\u001b[0;34m.\u001b[0m\u001b[0m_make_engine\u001b[0m\u001b[0;34m(\u001b[0m\u001b[0mself\u001b[0m\u001b[0;34m.\u001b[0m\u001b[0mengine\u001b[0m\u001b[0;34m)\u001b[0m\u001b[0;34m\u001b[0m\u001b[0;34m\u001b[0m\u001b[0m\n\u001b[0m\u001b[1;32m    812\u001b[0m \u001b[0;34m\u001b[0m\u001b[0m\n\u001b[1;32m    813\u001b[0m     \u001b[0;32mdef\u001b[0m \u001b[0mclose\u001b[0m\u001b[0;34m(\u001b[0m\u001b[0mself\u001b[0m\u001b[0;34m)\u001b[0m\u001b[0;34m:\u001b[0m\u001b[0;34m\u001b[0m\u001b[0;34m\u001b[0m\u001b[0m\n",
            "\u001b[0;32m/usr/local/lib/python3.7/dist-packages/pandas/io/parsers/readers.py\u001b[0m in \u001b[0;36m_make_engine\u001b[0;34m(self, engine)\u001b[0m\n\u001b[1;32m   1038\u001b[0m             )\n\u001b[1;32m   1039\u001b[0m         \u001b[0;31m# error: Too many arguments for \"ParserBase\"\u001b[0m\u001b[0;34m\u001b[0m\u001b[0;34m\u001b[0m\u001b[0;34m\u001b[0m\u001b[0m\n\u001b[0;32m-> 1040\u001b[0;31m         \u001b[0;32mreturn\u001b[0m \u001b[0mmapping\u001b[0m\u001b[0;34m[\u001b[0m\u001b[0mengine\u001b[0m\u001b[0;34m]\u001b[0m\u001b[0;34m(\u001b[0m\u001b[0mself\u001b[0m\u001b[0;34m.\u001b[0m\u001b[0mf\u001b[0m\u001b[0;34m,\u001b[0m \u001b[0;34m**\u001b[0m\u001b[0mself\u001b[0m\u001b[0;34m.\u001b[0m\u001b[0moptions\u001b[0m\u001b[0;34m)\u001b[0m  \u001b[0;31m# type: ignore[call-arg]\u001b[0m\u001b[0;34m\u001b[0m\u001b[0;34m\u001b[0m\u001b[0m\n\u001b[0m\u001b[1;32m   1041\u001b[0m \u001b[0;34m\u001b[0m\u001b[0m\n\u001b[1;32m   1042\u001b[0m     \u001b[0;32mdef\u001b[0m \u001b[0m_failover_to_python\u001b[0m\u001b[0;34m(\u001b[0m\u001b[0mself\u001b[0m\u001b[0;34m)\u001b[0m\u001b[0;34m:\u001b[0m\u001b[0;34m\u001b[0m\u001b[0;34m\u001b[0m\u001b[0m\n",
            "\u001b[0;32m/usr/local/lib/python3.7/dist-packages/pandas/io/parsers/c_parser_wrapper.py\u001b[0m in \u001b[0;36m__init__\u001b[0;34m(self, src, **kwds)\u001b[0m\n\u001b[1;32m     49\u001b[0m \u001b[0;34m\u001b[0m\u001b[0m\n\u001b[1;32m     50\u001b[0m         \u001b[0;31m# open handles\u001b[0m\u001b[0;34m\u001b[0m\u001b[0;34m\u001b[0m\u001b[0;34m\u001b[0m\u001b[0m\n\u001b[0;32m---> 51\u001b[0;31m         \u001b[0mself\u001b[0m\u001b[0;34m.\u001b[0m\u001b[0m_open_handles\u001b[0m\u001b[0;34m(\u001b[0m\u001b[0msrc\u001b[0m\u001b[0;34m,\u001b[0m \u001b[0mkwds\u001b[0m\u001b[0;34m)\u001b[0m\u001b[0;34m\u001b[0m\u001b[0;34m\u001b[0m\u001b[0m\n\u001b[0m\u001b[1;32m     52\u001b[0m         \u001b[0;32massert\u001b[0m \u001b[0mself\u001b[0m\u001b[0;34m.\u001b[0m\u001b[0mhandles\u001b[0m \u001b[0;32mis\u001b[0m \u001b[0;32mnot\u001b[0m \u001b[0;32mNone\u001b[0m\u001b[0;34m\u001b[0m\u001b[0;34m\u001b[0m\u001b[0m\n\u001b[1;32m     53\u001b[0m \u001b[0;34m\u001b[0m\u001b[0m\n",
            "\u001b[0;32m/usr/local/lib/python3.7/dist-packages/pandas/io/parsers/base_parser.py\u001b[0m in \u001b[0;36m_open_handles\u001b[0;34m(self, src, kwds)\u001b[0m\n\u001b[1;32m    227\u001b[0m             \u001b[0mmemory_map\u001b[0m\u001b[0;34m=\u001b[0m\u001b[0mkwds\u001b[0m\u001b[0;34m.\u001b[0m\u001b[0mget\u001b[0m\u001b[0;34m(\u001b[0m\u001b[0;34m\"memory_map\"\u001b[0m\u001b[0;34m,\u001b[0m \u001b[0;32mFalse\u001b[0m\u001b[0;34m)\u001b[0m\u001b[0;34m,\u001b[0m\u001b[0;34m\u001b[0m\u001b[0;34m\u001b[0m\u001b[0m\n\u001b[1;32m    228\u001b[0m             \u001b[0mstorage_options\u001b[0m\u001b[0;34m=\u001b[0m\u001b[0mkwds\u001b[0m\u001b[0;34m.\u001b[0m\u001b[0mget\u001b[0m\u001b[0;34m(\u001b[0m\u001b[0;34m\"storage_options\"\u001b[0m\u001b[0;34m,\u001b[0m \u001b[0;32mNone\u001b[0m\u001b[0;34m)\u001b[0m\u001b[0;34m,\u001b[0m\u001b[0;34m\u001b[0m\u001b[0;34m\u001b[0m\u001b[0m\n\u001b[0;32m--> 229\u001b[0;31m             \u001b[0merrors\u001b[0m\u001b[0;34m=\u001b[0m\u001b[0mkwds\u001b[0m\u001b[0;34m.\u001b[0m\u001b[0mget\u001b[0m\u001b[0;34m(\u001b[0m\u001b[0;34m\"encoding_errors\"\u001b[0m\u001b[0;34m,\u001b[0m \u001b[0;34m\"strict\"\u001b[0m\u001b[0;34m)\u001b[0m\u001b[0;34m,\u001b[0m\u001b[0;34m\u001b[0m\u001b[0;34m\u001b[0m\u001b[0m\n\u001b[0m\u001b[1;32m    230\u001b[0m         )\n\u001b[1;32m    231\u001b[0m \u001b[0;34m\u001b[0m\u001b[0m\n",
            "\u001b[0;32m/usr/local/lib/python3.7/dist-packages/pandas/io/common.py\u001b[0m in \u001b[0;36mget_handle\u001b[0;34m(path_or_buf, mode, encoding, compression, memory_map, is_text, errors, storage_options)\u001b[0m\n\u001b[1;32m    705\u001b[0m                 \u001b[0mencoding\u001b[0m\u001b[0;34m=\u001b[0m\u001b[0mioargs\u001b[0m\u001b[0;34m.\u001b[0m\u001b[0mencoding\u001b[0m\u001b[0;34m,\u001b[0m\u001b[0;34m\u001b[0m\u001b[0;34m\u001b[0m\u001b[0m\n\u001b[1;32m    706\u001b[0m                 \u001b[0merrors\u001b[0m\u001b[0;34m=\u001b[0m\u001b[0merrors\u001b[0m\u001b[0;34m,\u001b[0m\u001b[0;34m\u001b[0m\u001b[0;34m\u001b[0m\u001b[0m\n\u001b[0;32m--> 707\u001b[0;31m                 \u001b[0mnewline\u001b[0m\u001b[0;34m=\u001b[0m\u001b[0;34m\"\"\u001b[0m\u001b[0;34m,\u001b[0m\u001b[0;34m\u001b[0m\u001b[0;34m\u001b[0m\u001b[0m\n\u001b[0m\u001b[1;32m    708\u001b[0m             )\n\u001b[1;32m    709\u001b[0m         \u001b[0;32melse\u001b[0m\u001b[0;34m:\u001b[0m\u001b[0;34m\u001b[0m\u001b[0;34m\u001b[0m\u001b[0m\n",
            "\u001b[0;31mFileNotFoundError\u001b[0m: [Errno 2] No such file or directory: '/content/network-analysis-wikipedia-journals/df_journal.csv'"
          ]
        }
      ]
    },
    {
      "cell_type": "code",
      "execution_count": 2,
      "id": "b4594634-4631-483a-aafa-23d767965a0d",
      "metadata": {
        "colab": {
          "base_uri": "https://localhost:8080/",
          "height": 311
        },
        "id": "b4594634-4631-483a-aafa-23d767965a0d",
        "outputId": "bc753fd7-73c4-4013-ec93-b54e93798c13"
      },
      "outputs": [
        {
          "output_type": "error",
          "ename": "FileNotFoundError",
          "evalue": "ignored",
          "traceback": [
            "\u001b[0;31m---------------------------------------------------------------------------\u001b[0m",
            "\u001b[0;31mFileNotFoundError\u001b[0m                         Traceback (most recent call last)",
            "\u001b[0;32m<ipython-input-2-03f37b4f253f>\u001b[0m in \u001b[0;36m<module>\u001b[0;34m()\u001b[0m\n\u001b[0;32m----> 1\u001b[0;31m \u001b[0mdf_journal\u001b[0m \u001b[0;34m=\u001b[0m \u001b[0mpd\u001b[0m\u001b[0;34m.\u001b[0m\u001b[0mread_csv\u001b[0m\u001b[0;34m(\u001b[0m\u001b[0;34m'df_journal.csv'\u001b[0m\u001b[0;34m)\u001b[0m\u001b[0;34m\u001b[0m\u001b[0;34m\u001b[0m\u001b[0m\n\u001b[0m",
            "\u001b[0;32m/usr/local/lib/python3.7/dist-packages/pandas/util/_decorators.py\u001b[0m in \u001b[0;36mwrapper\u001b[0;34m(*args, **kwargs)\u001b[0m\n\u001b[1;32m    309\u001b[0m                     \u001b[0mstacklevel\u001b[0m\u001b[0;34m=\u001b[0m\u001b[0mstacklevel\u001b[0m\u001b[0;34m,\u001b[0m\u001b[0;34m\u001b[0m\u001b[0;34m\u001b[0m\u001b[0m\n\u001b[1;32m    310\u001b[0m                 )\n\u001b[0;32m--> 311\u001b[0;31m             \u001b[0;32mreturn\u001b[0m \u001b[0mfunc\u001b[0m\u001b[0;34m(\u001b[0m\u001b[0;34m*\u001b[0m\u001b[0margs\u001b[0m\u001b[0;34m,\u001b[0m \u001b[0;34m**\u001b[0m\u001b[0mkwargs\u001b[0m\u001b[0;34m)\u001b[0m\u001b[0;34m\u001b[0m\u001b[0;34m\u001b[0m\u001b[0m\n\u001b[0m\u001b[1;32m    312\u001b[0m \u001b[0;34m\u001b[0m\u001b[0m\n\u001b[1;32m    313\u001b[0m         \u001b[0;32mreturn\u001b[0m \u001b[0mwrapper\u001b[0m\u001b[0;34m\u001b[0m\u001b[0;34m\u001b[0m\u001b[0m\n",
            "\u001b[0;32m/usr/local/lib/python3.7/dist-packages/pandas/io/parsers/readers.py\u001b[0m in \u001b[0;36mread_csv\u001b[0;34m(filepath_or_buffer, sep, delimiter, header, names, index_col, usecols, squeeze, prefix, mangle_dupe_cols, dtype, engine, converters, true_values, false_values, skipinitialspace, skiprows, skipfooter, nrows, na_values, keep_default_na, na_filter, verbose, skip_blank_lines, parse_dates, infer_datetime_format, keep_date_col, date_parser, dayfirst, cache_dates, iterator, chunksize, compression, thousands, decimal, lineterminator, quotechar, quoting, doublequote, escapechar, comment, encoding, encoding_errors, dialect, error_bad_lines, warn_bad_lines, on_bad_lines, delim_whitespace, low_memory, memory_map, float_precision, storage_options)\u001b[0m\n\u001b[1;32m    584\u001b[0m     \u001b[0mkwds\u001b[0m\u001b[0;34m.\u001b[0m\u001b[0mupdate\u001b[0m\u001b[0;34m(\u001b[0m\u001b[0mkwds_defaults\u001b[0m\u001b[0;34m)\u001b[0m\u001b[0;34m\u001b[0m\u001b[0;34m\u001b[0m\u001b[0m\n\u001b[1;32m    585\u001b[0m \u001b[0;34m\u001b[0m\u001b[0m\n\u001b[0;32m--> 586\u001b[0;31m     \u001b[0;32mreturn\u001b[0m \u001b[0m_read\u001b[0m\u001b[0;34m(\u001b[0m\u001b[0mfilepath_or_buffer\u001b[0m\u001b[0;34m,\u001b[0m \u001b[0mkwds\u001b[0m\u001b[0;34m)\u001b[0m\u001b[0;34m\u001b[0m\u001b[0;34m\u001b[0m\u001b[0m\n\u001b[0m\u001b[1;32m    587\u001b[0m \u001b[0;34m\u001b[0m\u001b[0m\n\u001b[1;32m    588\u001b[0m \u001b[0;34m\u001b[0m\u001b[0m\n",
            "\u001b[0;32m/usr/local/lib/python3.7/dist-packages/pandas/io/parsers/readers.py\u001b[0m in \u001b[0;36m_read\u001b[0;34m(filepath_or_buffer, kwds)\u001b[0m\n\u001b[1;32m    480\u001b[0m \u001b[0;34m\u001b[0m\u001b[0m\n\u001b[1;32m    481\u001b[0m     \u001b[0;31m# Create the parser.\u001b[0m\u001b[0;34m\u001b[0m\u001b[0;34m\u001b[0m\u001b[0;34m\u001b[0m\u001b[0m\n\u001b[0;32m--> 482\u001b[0;31m     \u001b[0mparser\u001b[0m \u001b[0;34m=\u001b[0m \u001b[0mTextFileReader\u001b[0m\u001b[0;34m(\u001b[0m\u001b[0mfilepath_or_buffer\u001b[0m\u001b[0;34m,\u001b[0m \u001b[0;34m**\u001b[0m\u001b[0mkwds\u001b[0m\u001b[0;34m)\u001b[0m\u001b[0;34m\u001b[0m\u001b[0;34m\u001b[0m\u001b[0m\n\u001b[0m\u001b[1;32m    483\u001b[0m \u001b[0;34m\u001b[0m\u001b[0m\n\u001b[1;32m    484\u001b[0m     \u001b[0;32mif\u001b[0m \u001b[0mchunksize\u001b[0m \u001b[0;32mor\u001b[0m \u001b[0miterator\u001b[0m\u001b[0;34m:\u001b[0m\u001b[0;34m\u001b[0m\u001b[0;34m\u001b[0m\u001b[0m\n",
            "\u001b[0;32m/usr/local/lib/python3.7/dist-packages/pandas/io/parsers/readers.py\u001b[0m in \u001b[0;36m__init__\u001b[0;34m(self, f, engine, **kwds)\u001b[0m\n\u001b[1;32m    809\u001b[0m             \u001b[0mself\u001b[0m\u001b[0;34m.\u001b[0m\u001b[0moptions\u001b[0m\u001b[0;34m[\u001b[0m\u001b[0;34m\"has_index_names\"\u001b[0m\u001b[0;34m]\u001b[0m \u001b[0;34m=\u001b[0m \u001b[0mkwds\u001b[0m\u001b[0;34m[\u001b[0m\u001b[0;34m\"has_index_names\"\u001b[0m\u001b[0;34m]\u001b[0m\u001b[0;34m\u001b[0m\u001b[0;34m\u001b[0m\u001b[0m\n\u001b[1;32m    810\u001b[0m \u001b[0;34m\u001b[0m\u001b[0m\n\u001b[0;32m--> 811\u001b[0;31m         \u001b[0mself\u001b[0m\u001b[0;34m.\u001b[0m\u001b[0m_engine\u001b[0m \u001b[0;34m=\u001b[0m \u001b[0mself\u001b[0m\u001b[0;34m.\u001b[0m\u001b[0m_make_engine\u001b[0m\u001b[0;34m(\u001b[0m\u001b[0mself\u001b[0m\u001b[0;34m.\u001b[0m\u001b[0mengine\u001b[0m\u001b[0;34m)\u001b[0m\u001b[0;34m\u001b[0m\u001b[0;34m\u001b[0m\u001b[0m\n\u001b[0m\u001b[1;32m    812\u001b[0m \u001b[0;34m\u001b[0m\u001b[0m\n\u001b[1;32m    813\u001b[0m     \u001b[0;32mdef\u001b[0m \u001b[0mclose\u001b[0m\u001b[0;34m(\u001b[0m\u001b[0mself\u001b[0m\u001b[0;34m)\u001b[0m\u001b[0;34m:\u001b[0m\u001b[0;34m\u001b[0m\u001b[0;34m\u001b[0m\u001b[0m\n",
            "\u001b[0;32m/usr/local/lib/python3.7/dist-packages/pandas/io/parsers/readers.py\u001b[0m in \u001b[0;36m_make_engine\u001b[0;34m(self, engine)\u001b[0m\n\u001b[1;32m   1038\u001b[0m             )\n\u001b[1;32m   1039\u001b[0m         \u001b[0;31m# error: Too many arguments for \"ParserBase\"\u001b[0m\u001b[0;34m\u001b[0m\u001b[0;34m\u001b[0m\u001b[0;34m\u001b[0m\u001b[0m\n\u001b[0;32m-> 1040\u001b[0;31m         \u001b[0;32mreturn\u001b[0m \u001b[0mmapping\u001b[0m\u001b[0;34m[\u001b[0m\u001b[0mengine\u001b[0m\u001b[0;34m]\u001b[0m\u001b[0;34m(\u001b[0m\u001b[0mself\u001b[0m\u001b[0;34m.\u001b[0m\u001b[0mf\u001b[0m\u001b[0;34m,\u001b[0m \u001b[0;34m**\u001b[0m\u001b[0mself\u001b[0m\u001b[0;34m.\u001b[0m\u001b[0moptions\u001b[0m\u001b[0;34m)\u001b[0m  \u001b[0;31m# type: ignore[call-arg]\u001b[0m\u001b[0;34m\u001b[0m\u001b[0;34m\u001b[0m\u001b[0m\n\u001b[0m\u001b[1;32m   1041\u001b[0m \u001b[0;34m\u001b[0m\u001b[0m\n\u001b[1;32m   1042\u001b[0m     \u001b[0;32mdef\u001b[0m \u001b[0m_failover_to_python\u001b[0m\u001b[0;34m(\u001b[0m\u001b[0mself\u001b[0m\u001b[0;34m)\u001b[0m\u001b[0;34m:\u001b[0m\u001b[0;34m\u001b[0m\u001b[0;34m\u001b[0m\u001b[0m\n",
            "\u001b[0;32m/usr/local/lib/python3.7/dist-packages/pandas/io/parsers/c_parser_wrapper.py\u001b[0m in \u001b[0;36m__init__\u001b[0;34m(self, src, **kwds)\u001b[0m\n\u001b[1;32m     49\u001b[0m \u001b[0;34m\u001b[0m\u001b[0m\n\u001b[1;32m     50\u001b[0m         \u001b[0;31m# open handles\u001b[0m\u001b[0;34m\u001b[0m\u001b[0;34m\u001b[0m\u001b[0;34m\u001b[0m\u001b[0m\n\u001b[0;32m---> 51\u001b[0;31m         \u001b[0mself\u001b[0m\u001b[0;34m.\u001b[0m\u001b[0m_open_handles\u001b[0m\u001b[0;34m(\u001b[0m\u001b[0msrc\u001b[0m\u001b[0;34m,\u001b[0m \u001b[0mkwds\u001b[0m\u001b[0;34m)\u001b[0m\u001b[0;34m\u001b[0m\u001b[0;34m\u001b[0m\u001b[0m\n\u001b[0m\u001b[1;32m     52\u001b[0m         \u001b[0;32massert\u001b[0m \u001b[0mself\u001b[0m\u001b[0;34m.\u001b[0m\u001b[0mhandles\u001b[0m \u001b[0;32mis\u001b[0m \u001b[0;32mnot\u001b[0m \u001b[0;32mNone\u001b[0m\u001b[0;34m\u001b[0m\u001b[0;34m\u001b[0m\u001b[0m\n\u001b[1;32m     53\u001b[0m \u001b[0;34m\u001b[0m\u001b[0m\n",
            "\u001b[0;32m/usr/local/lib/python3.7/dist-packages/pandas/io/parsers/base_parser.py\u001b[0m in \u001b[0;36m_open_handles\u001b[0;34m(self, src, kwds)\u001b[0m\n\u001b[1;32m    227\u001b[0m             \u001b[0mmemory_map\u001b[0m\u001b[0;34m=\u001b[0m\u001b[0mkwds\u001b[0m\u001b[0;34m.\u001b[0m\u001b[0mget\u001b[0m\u001b[0;34m(\u001b[0m\u001b[0;34m\"memory_map\"\u001b[0m\u001b[0;34m,\u001b[0m \u001b[0;32mFalse\u001b[0m\u001b[0;34m)\u001b[0m\u001b[0;34m,\u001b[0m\u001b[0;34m\u001b[0m\u001b[0;34m\u001b[0m\u001b[0m\n\u001b[1;32m    228\u001b[0m             \u001b[0mstorage_options\u001b[0m\u001b[0;34m=\u001b[0m\u001b[0mkwds\u001b[0m\u001b[0;34m.\u001b[0m\u001b[0mget\u001b[0m\u001b[0;34m(\u001b[0m\u001b[0;34m\"storage_options\"\u001b[0m\u001b[0;34m,\u001b[0m \u001b[0;32mNone\u001b[0m\u001b[0;34m)\u001b[0m\u001b[0;34m,\u001b[0m\u001b[0;34m\u001b[0m\u001b[0;34m\u001b[0m\u001b[0m\n\u001b[0;32m--> 229\u001b[0;31m             \u001b[0merrors\u001b[0m\u001b[0;34m=\u001b[0m\u001b[0mkwds\u001b[0m\u001b[0;34m.\u001b[0m\u001b[0mget\u001b[0m\u001b[0;34m(\u001b[0m\u001b[0;34m\"encoding_errors\"\u001b[0m\u001b[0;34m,\u001b[0m \u001b[0;34m\"strict\"\u001b[0m\u001b[0;34m)\u001b[0m\u001b[0;34m,\u001b[0m\u001b[0;34m\u001b[0m\u001b[0;34m\u001b[0m\u001b[0m\n\u001b[0m\u001b[1;32m    230\u001b[0m         )\n\u001b[1;32m    231\u001b[0m \u001b[0;34m\u001b[0m\u001b[0m\n",
            "\u001b[0;32m/usr/local/lib/python3.7/dist-packages/pandas/io/common.py\u001b[0m in \u001b[0;36mget_handle\u001b[0;34m(path_or_buf, mode, encoding, compression, memory_map, is_text, errors, storage_options)\u001b[0m\n\u001b[1;32m    705\u001b[0m                 \u001b[0mencoding\u001b[0m\u001b[0;34m=\u001b[0m\u001b[0mioargs\u001b[0m\u001b[0;34m.\u001b[0m\u001b[0mencoding\u001b[0m\u001b[0;34m,\u001b[0m\u001b[0;34m\u001b[0m\u001b[0;34m\u001b[0m\u001b[0m\n\u001b[1;32m    706\u001b[0m                 \u001b[0merrors\u001b[0m\u001b[0;34m=\u001b[0m\u001b[0merrors\u001b[0m\u001b[0;34m,\u001b[0m\u001b[0;34m\u001b[0m\u001b[0;34m\u001b[0m\u001b[0m\n\u001b[0;32m--> 707\u001b[0;31m                 \u001b[0mnewline\u001b[0m\u001b[0;34m=\u001b[0m\u001b[0;34m\"\"\u001b[0m\u001b[0;34m,\u001b[0m\u001b[0;34m\u001b[0m\u001b[0;34m\u001b[0m\u001b[0m\n\u001b[0m\u001b[1;32m    708\u001b[0m             )\n\u001b[1;32m    709\u001b[0m         \u001b[0;32melse\u001b[0m\u001b[0;34m:\u001b[0m\u001b[0;34m\u001b[0m\u001b[0;34m\u001b[0m\u001b[0m\n",
            "\u001b[0;31mFileNotFoundError\u001b[0m: [Errno 2] No such file or directory: 'df_journal.csv'"
          ]
        }
      ],
      "source": [
        "df_journal = pd.read_csv('df_journal.csv')"
      ]
    },
    {
      "cell_type": "code",
      "execution_count": null,
      "id": "7959d88d-015c-4b85-96e5-46620e91ba28",
      "metadata": {
        "id": "7959d88d-015c-4b85-96e5-46620e91ba28"
      },
      "outputs": [],
      "source": [
        "df_journal.columns"
      ]
    },
    {
      "cell_type": "code",
      "execution_count": null,
      "id": "d1e28e26-5074-4572-8934-829bf17e916a",
      "metadata": {
        "id": "d1e28e26-5074-4572-8934-829bf17e916a"
      },
      "outputs": [],
      "source": [
        "g = nx.Graph()"
      ]
    },
    {
      "cell_type": "code",
      "execution_count": null,
      "id": "dc8b0dc1-ef63-4dda-9b20-770f4dbde44e",
      "metadata": {
        "id": "dc8b0dc1-ef63-4dda-9b20-770f4dbde44e"
      },
      "outputs": [],
      "source": [
        "def draw_network(graph, seed=42):\n",
        "    nx.draw(graph, pos=nx.spring_layout(graph, seed=seed),\n",
        "            with_labels=True, node_size=1000)"
      ]
    },
    {
      "cell_type": "code",
      "execution_count": null,
      "id": "82086f6c-1ffc-47bc-892d-1303c21190fc",
      "metadata": {
        "id": "82086f6c-1ffc-47bc-892d-1303c21190fc"
      },
      "outputs": [],
      "source": [
        "g.add_edges_from([['Stephen', 'Jenya'], ['Stephen', 'Beka'], ['Beka', 'Jenya']])\n",
        "g.add_edges_from([['Stephen', 'Jenya'], ['Stephen', 'Jenya']])\n",
        "g.add_nodes_from(['A'])\n",
        "#, 'Jenya'], ['Stephen', 'Beka'], ['Beka', 'Jenya']])\n",
        "draw_network(g)"
      ]
    },
    {
      "cell_type": "code",
      "execution_count": null,
      "id": "09d6180f-ea01-4a28-a1e1-1102f63eb210",
      "metadata": {
        "id": "09d6180f-ea01-4a28-a1e1-1102f63eb210"
      },
      "outputs": [],
      "source": [
        "df_journal.nunique()"
      ]
    },
    {
      "cell_type": "code",
      "execution_count": null,
      "id": "e67bdb84-6d42-4c6b-9b8d-ffb9ff4370b5",
      "metadata": {
        "id": "e67bdb84-6d42-4c6b-9b8d-ffb9ff4370b5"
      },
      "outputs": [],
      "source": [
        ""
      ]
    },
    {
      "cell_type": "code",
      "execution_count": null,
      "id": "bfe3156b-683b-4959-be54-975bb11c7eb6",
      "metadata": {
        "id": "bfe3156b-683b-4959-be54-975bb11c7eb6"
      },
      "outputs": [],
      "source": [
        ""
      ]
    },
    {
      "cell_type": "code",
      "execution_count": null,
      "id": "42264cba-862f-44b4-bc04-53614c259396",
      "metadata": {
        "id": "42264cba-862f-44b4-bc04-53614c259396"
      },
      "outputs": [],
      "source": [
        "df_sample_journal_data = pd.DataFrame(np.array([['p1', 'j1'],['p1', 'j2'], ['p1', 'j3'], ['p2', 'j1'], ['p2', 'j2']]),\n",
        "                   columns=['page_title', 'journal_name'])\n",
        "df_sample_journal_data"
      ]
    },
    {
      "cell_type": "code",
      "execution_count": null,
      "id": "31dbecf6-339f-4657-89b2-81f66de820b4",
      "metadata": {
        "id": "31dbecf6-339f-4657-89b2-81f66de820b4"
      },
      "outputs": [],
      "source": [
        "# df_groupby = df_sample_journal_data.groupby('page_title')['journal_name'].apply(lambda x: ', '.join(x))\n",
        "df_groupby = df_sample_journal_data.groupby('page_title')['journal_name'].apply(list)\n",
        "\n",
        "df_groupby"
      ]
    },
    {
      "cell_type": "code",
      "execution_count": null,
      "id": "57eb117a-e222-4458-b7b8-ea72349fbf75",
      "metadata": {
        "id": "57eb117a-e222-4458-b7b8-ea72349fbf75"
      },
      "outputs": [],
      "source": [
        "iterations_sample = itertools.combinations(df_groupby['p1'], 2)\n",
        "print(iterations_sample)\n",
        "for i in iterations_sample:\n",
        "    print(i)"
      ]
    },
    {
      "cell_type": "code",
      "execution_count": null,
      "id": "41be45ff-ceb0-4d5e-aac3-f9d49386d483",
      "metadata": {
        "id": "41be45ff-ceb0-4d5e-aac3-f9d49386d483"
      },
      "outputs": [],
      "source": [
        ""
      ]
    },
    {
      "cell_type": "code",
      "execution_count": null,
      "id": "8b51c3f2-bf90-4587-a215-8057fcf4faa3",
      "metadata": {
        "id": "8b51c3f2-bf90-4587-a215-8057fcf4faa3"
      },
      "outputs": [],
      "source": [
        "df_groupby = df_journal.groupby('page_title')['journal_name'].apply(list)\n",
        "df_groupby"
      ]
    },
    {
      "cell_type": "code",
      "execution_count": null,
      "id": "f0d36998-e673-4f53-99aa-afca6f2d3cea",
      "metadata": {
        "id": "f0d36998-e673-4f53-99aa-afca6f2d3cea"
      },
      "outputs": [],
      "source": [
        "# find combination of all the journal name\n",
        "\n",
        "iterations = itertools.combinations(df_groupby[2], 2)\n",
        "\n",
        "for combi in iterations: \n",
        "    print(combi)"
      ]
    },
    {
      "cell_type": "code",
      "execution_count": null,
      "id": "cce7e8f4-4c85-4f65-9c88-61426a6fc93d",
      "metadata": {
        "id": "cce7e8f4-4c85-4f65-9c88-61426a6fc93d"
      },
      "outputs": [],
      "source": [
        ""
      ]
    },
    {
      "cell_type": "code",
      "execution_count": null,
      "id": "800b3609-360d-43c7-b819-95b409a9714f",
      "metadata": {
        "id": "800b3609-360d-43c7-b819-95b409a9714f"
      },
      "outputs": [],
      "source": [
        "# make list iterations based on the combinations\n",
        "\n",
        "journal_relation_list = []\n",
        "\n",
        "for page in range(len(df_groupby)):\n",
        "    iterations = itertools.combinations(df_groupby[page], 2)\n",
        "    for iter in iterations:\n",
        "        journal_relation_list.append(iter)\n",
        "\n",
        "#journal_relation_list\n"
      ]
    },
    {
      "cell_type": "code",
      "execution_count": null,
      "id": "d009a2eb-639c-46d0-a6e3-d57f4ce55f14",
      "metadata": {
        "id": "d009a2eb-639c-46d0-a6e3-d57f4ce55f14"
      },
      "outputs": [],
      "source": [
        "df1 = pd.DataFrame (journal_relation_list, columns = ['journal1', 'journal2'])\n",
        "\n",
        "df1"
      ]
    },
    {
      "cell_type": "code",
      "execution_count": null,
      "id": "ae2635c8-cb1b-47f0-ac4e-e632c5a96dbd",
      "metadata": {
        "id": "ae2635c8-cb1b-47f0-ac4e-e632c5a96dbd"
      },
      "outputs": [],
      "source": [
        "df1['journal1'] = df1['journal1'].astype(str)\n",
        "df1['journal2'] = df1['journal2'].astype(str)\n",
        "df1"
      ]
    },
    {
      "cell_type": "code",
      "execution_count": null,
      "id": "f0855df8-d5fa-4d77-9462-b740417753be",
      "metadata": {
        "id": "f0855df8-d5fa-4d77-9462-b740417753be"
      },
      "outputs": [],
      "source": [
        "df2 = df1[['journal1','journal2']] = pd.DataFrame(np.sort(df1[['journal1','journal2']].values), \n",
        "                                 index=df1.index, columns=['journal1','journal2'])\n",
        "df2"
      ]
    },
    {
      "cell_type": "code",
      "execution_count": null,
      "id": "2d348526-3261-4e04-a97c-d10cbeddf35d",
      "metadata": {
        "id": "2d348526-3261-4e04-a97c-d10cbeddf35d"
      },
      "outputs": [],
      "source": [
        "df3 = df2[['journal1', 'journal2']].value_counts().reset_index(name='weight')\n",
        "df3.head(20)"
      ]
    },
    {
      "cell_type": "code",
      "execution_count": null,
      "id": "56bd3eec-5f3a-40e7-854f-dbcf33e5990c",
      "metadata": {
        "id": "56bd3eec-5f3a-40e7-854f-dbcf33e5990c"
      },
      "outputs": [],
      "source": [
        "df3 = df3[df3.weight>=200]\n",
        "df3"
      ]
    },
    {
      "cell_type": "code",
      "execution_count": null,
      "id": "e5623874-5154-4a66-8aed-35c5f1d88d33",
      "metadata": {
        "id": "e5623874-5154-4a66-8aed-35c5f1d88d33"
      },
      "outputs": [],
      "source": [
        "df3.nunique()"
      ]
    },
    {
      "cell_type": "code",
      "execution_count": null,
      "id": "3bd6e6b8-82ae-44ef-ad5d-0ad8128568e5",
      "metadata": {
        "id": "3bd6e6b8-82ae-44ef-ad5d-0ad8128568e5"
      },
      "outputs": [],
      "source": [
        "df3.to_csv(r'df3_weights.csv')"
      ]
    },
    {
      "cell_type": "code",
      "execution_count": null,
      "id": "1004af37-f179-4d0f-9756-bf6570acd24c",
      "metadata": {
        "id": "1004af37-f179-4d0f-9756-bf6570acd24c"
      },
      "outputs": [],
      "source": [
        "df3.hist(column='weight')"
      ]
    },
    {
      "cell_type": "code",
      "execution_count": null,
      "id": "eadf4469-6b23-47f4-8f40-7a9c11ee0157",
      "metadata": {
        "id": "eadf4469-6b23-47f4-8f40-7a9c11ee0157"
      },
      "outputs": [],
      "source": [
        "G = nx.from_pandas_edgelist(df3, 'journal1', 'journal2', 'weight')"
      ]
    },
    {
      "cell_type": "code",
      "execution_count": null,
      "id": "f9590b1f-ab91-4a82-a01a-b23cadeb69b0",
      "metadata": {
        "id": "f9590b1f-ab91-4a82-a01a-b23cadeb69b0"
      },
      "outputs": [],
      "source": [
        "from matplotlib.pyplot import figure\n",
        "figure(figsize=(10, 8))\n",
        "nx.draw_shell(G, with_labels=True)"
      ]
    },
    {
      "cell_type": "code",
      "execution_count": null,
      "id": "94cd7d2f-f280-436c-a9e9-37bc50937dd3",
      "metadata": {
        "id": "94cd7d2f-f280-436c-a9e9-37bc50937dd3"
      },
      "outputs": [],
      "source": [
        "def minimal_pathfinder(G, r = float(\"inf\")):\n",
        "    \"\"\" \n",
        "    Args:\n",
        "    -----\n",
        "    G [networkX graph]:\n",
        "        Graph to filter links from.\n",
        "    r [float]:\n",
        "        \"r\" parameter as in the paper.\n",
        "\n",
        "    Returns:\n",
        "    -----\n",
        "    PFNET [networkX graph]:\n",
        "        Graph containing only the PFNET links.\n",
        "    \"\"\"\n",
        "    \n",
        "    import networkx as nx\n",
        "    from collections import defaultdict\n",
        "    \n",
        "    H = G.copy()\n",
        "    \n",
        "    # Initialize adjacency matrix W\n",
        "    W = defaultdict(lambda: defaultdict(lambda: float(\"inf\")))\n",
        "    \n",
        "    # Set diagonal to 0\n",
        "    for u in H.nodes():\n",
        "        W[u][u] = 0 \n",
        "    \n",
        "    # Get weights and set W values\n",
        "    for i, j, d in H.edges(data=True):\n",
        "        W[i][j] = d['weight'] # Add weights to W\n",
        "        \n",
        "    # Get shortest path distance matrix D\n",
        "    dist = nx.floyd_warshall_predecessor_and_distance(H, weight='weight')[1]\n",
        "    \n",
        "    # Iterate over all triples to get values for D\n",
        "    for k in H.nodes():\n",
        "        for i in H.nodes():\n",
        "            for j in H.nodes():\n",
        "                if r == float(\"inf\"): # adapted from the R-comato version which does a similar check\n",
        "                # Discard non-shortest paths\n",
        "                    dist[i][j] = min(dist[i][j], (dist[i][k] + dist[k][j]))\n",
        "                else:\n",
        "                    dist[i][j] = min(dist[i][j], (((dist[i][k]) ** r) + ((dist[k][j]) ** r )) ** (1/r))\n",
        "                \n",
        "    # Check for type; set placeholder for either case\n",
        "    if not H.is_directed():\n",
        "        PFNET = nx.Graph()\n",
        "        PFNET.add_nodes_from(H.nodes(data=True))\n",
        "    else:\n",
        "        PFNET = nx.DiGraph()\n",
        "        PFNET.add_nodes_from(H.nodes(data=True))\n",
        "        \n",
        "    # Add links D_ij only if == W_ij\n",
        "    for i in H.nodes():\n",
        "        for j in H.nodes():\n",
        "            if dist[i][j] == W[i][j]: # If shortest path distance equals distance in adjacency\n",
        "                if dist[i][j] == float(\"inf\"): # Skip infinite path lengths\n",
        "                    pass\n",
        "                elif i == j: # Skip the diagonal\n",
        "                    pass\n",
        "                else: # Add link to PFNET\n",
        "                    weight = dist[i][j]\n",
        "                    PFNET.add_edge(i, j, weight=weight)\n",
        "                    \n",
        "    return PFNET"
      ]
    },
    {
      "cell_type": "code",
      "execution_count": null,
      "id": "caa6034c-1199-4293-8273-e0839942c209",
      "metadata": {
        "id": "caa6034c-1199-4293-8273-e0839942c209"
      },
      "outputs": [],
      "source": [
        "df4=df3\n",
        "g = nx.from_pandas_edgelist(df4, 'journal1', 'journal2', 'weight')"
      ]
    },
    {
      "cell_type": "code",
      "execution_count": null,
      "id": "7389de60-981b-45cd-98a5-9af166d46f44",
      "metadata": {
        "id": "7389de60-981b-45cd-98a5-9af166d46f44"
      },
      "outputs": [],
      "source": [
        "draw_network(g)"
      ]
    },
    {
      "cell_type": "code",
      "execution_count": null,
      "id": "3b9eef83-f830-4fad-a93b-2569708f465c",
      "metadata": {
        "id": "3b9eef83-f830-4fad-a93b-2569708f465c"
      },
      "outputs": [],
      "source": [
        "PFNET = minimal_pathfinder(g)\n",
        "print(nx.info(g))\n",
        "print(nx.info(PFNET))"
      ]
    },
    {
      "cell_type": "code",
      "execution_count": null,
      "id": "829d8a49-f9ca-4207-a305-45e6dd7512e8",
      "metadata": {
        "id": "829d8a49-f9ca-4207-a305-45e6dd7512e8"
      },
      "outputs": [],
      "source": [
        "draw_network(PFNET)"
      ]
    },
    {
      "cell_type": "code",
      "execution_count": null,
      "id": "12218f0d-952b-4178-8a4d-e7ade232c4e9",
      "metadata": {
        "id": "12218f0d-952b-4178-8a4d-e7ade232c4e9"
      },
      "outputs": [],
      "source": [
        "nx.write_gexf(PFNET, \"PFNET.gexf\")"
      ]
    },
    {
      "cell_type": "code",
      "execution_count": null,
      "id": "a623b479-bade-4299-81f7-1001278a97fc",
      "metadata": {
        "id": "a623b479-bade-4299-81f7-1001278a97fc"
      },
      "outputs": [],
      "source": [
        "df4"
      ]
    },
    {
      "cell_type": "code",
      "execution_count": null,
      "id": "61056a1f-9497-4453-8c01-3bbfc414352c",
      "metadata": {
        "id": "61056a1f-9497-4453-8c01-3bbfc414352c"
      },
      "outputs": [],
      "source": [
        "G = nx.complete_graph(50) # Generate a complete graph\n",
        "\n",
        "# Add random weights\n",
        "for (u,v,w) in G.edges(data=True):\n",
        "    w['Weight'] = np.random.randint(1,20)\n",
        "    \n",
        "PFNET = minimal_pathfinder(G)\n",
        "\n",
        "print(nx.info(G))\n",
        "print(nx.info(PFNET))"
      ]
    },
    {
      "cell_type": "code",
      "execution_count": null,
      "id": "9e56a885-b7dc-4f87-8955-20c44b697904",
      "metadata": {
        "id": "9e56a885-b7dc-4f87-8955-20c44b697904"
      },
      "outputs": [],
      "source": [
        "# for (u,v,w) in G.edges(data=True):\n",
        "#     print (w)"
      ]
    }
  ],
  "metadata": {
    "kernelspec": {
      "display_name": "Python 3 (ipykernel)",
      "language": "python",
      "name": "python3"
    },
    "language_info": {
      "codemirror_mode": {
        "name": "ipython",
        "version": 3
      },
      "file_extension": ".py",
      "mimetype": "text/x-python",
      "name": "python",
      "nbconvert_exporter": "python",
      "pygments_lexer": "ipython3",
      "version": "3.9.7"
    },
    "colab": {
      "name": "2_Data_preparation.ipynb",
      "provenance": [],
      "include_colab_link": true
    }
  },
  "nbformat": 4,
  "nbformat_minor": 5
}