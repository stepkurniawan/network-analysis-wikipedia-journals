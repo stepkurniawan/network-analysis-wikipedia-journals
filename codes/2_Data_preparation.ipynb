{
 "cells": [
  {
   "cell_type": "code",
   "execution_count": 3,
   "id": "2d9af8de-1b05-44bb-8895-e63d0857b4cb",
   "metadata": {},
   "outputs": [],
   "source": [
    "import networkx as nx\n",
    "import numpy as np\n",
    "import pandas as pd\n",
    "import matplotlib.pyplot as plt\n",
    "plt.style.use('seaborn')\n",
    "%matplotlib inline\n",
    "import warnings\n",
    "warnings.filterwarnings('ignore')\n",
    "import itertools"
   ]
  },
  {
   "cell_type": "code",
   "execution_count": null,
   "id": "48e93ccd",
   "metadata": {},
   "outputs": [],
   "source": [
    "# run this for google colab\n",
    "# ! git clone https://github.com/stepkurniawan/network-analysis-wikipedia-journals.git\n",
    "# df_journal = pd.read_csv('/content/network-analysis-wikipedia-journals/files/df_journal.csv')"
   ]
  },
  {
   "cell_type": "code",
   "execution_count": 22,
   "id": "b4594634-4631-483a-aafa-23d767965a0d",
   "metadata": {},
   "outputs": [],
   "source": [
    "df_journal = pd.read_csv('C:\\\\Users\\\\Beka\\Documents\\\\GitHub\\\\network-analysis-wikipedia-journals\\\\files\\\\df_journal.csv')"
   ]
  },
  {
   "cell_type": "code",
   "execution_count": 23,
   "id": "3b394b98-0e54-4596-9b9a-518cf5a6b1dd",
   "metadata": {},
   "outputs": [
    {
     "data": {
      "text/html": [
       "<div>\n",
       "<style scoped>\n",
       "    .dataframe tbody tr th:only-of-type {\n",
       "        vertical-align: middle;\n",
       "    }\n",
       "\n",
       "    .dataframe tbody tr th {\n",
       "        vertical-align: top;\n",
       "    }\n",
       "\n",
       "    .dataframe thead th {\n",
       "        text-align: right;\n",
       "    }\n",
       "</style>\n",
       "<table border=\"1\" class=\"dataframe\">\n",
       "  <thead>\n",
       "    <tr style=\"text-align: right;\">\n",
       "      <th></th>\n",
       "      <th>Unnamed: 0</th>\n",
       "      <th>page_title</th>\n",
       "      <th>journal_name</th>\n",
       "    </tr>\n",
       "  </thead>\n",
       "  <tbody>\n",
       "    <tr>\n",
       "      <th>0</th>\n",
       "      <td>27568282</td>\n",
       "      <td>Aceria clianthi</td>\n",
       "      <td>Weta</td>\n",
       "    </tr>\n",
       "    <tr>\n",
       "      <th>1</th>\n",
       "      <td>24637003</td>\n",
       "      <td>Thirdperson pronoun</td>\n",
       "      <td>w</td>\n",
       "    </tr>\n",
       "    <tr>\n",
       "      <th>2</th>\n",
       "      <td>1511789</td>\n",
       "      <td>Eoentelodon</td>\n",
       "      <td>transl</td>\n",
       "    </tr>\n",
       "    <tr>\n",
       "      <th>3</th>\n",
       "      <td>27129331</td>\n",
       "      <td>Madanjeet Singh</td>\n",
       "      <td>subst</td>\n",
       "    </tr>\n",
       "    <tr>\n",
       "      <th>4</th>\n",
       "      <td>24341983</td>\n",
       "      <td>List of television stations in Mississippi</td>\n",
       "      <td>req</td>\n",
       "    </tr>\n",
       "    <tr>\n",
       "      <th>...</th>\n",
       "      <td>...</td>\n",
       "      <td>...</td>\n",
       "      <td>...</td>\n",
       "    </tr>\n",
       "    <tr>\n",
       "      <th>1563709</th>\n",
       "      <td>28154158</td>\n",
       "      <td>Castlevania Rondo of Blood</td>\n",
       "      <td>NaN</td>\n",
       "    </tr>\n",
       "    <tr>\n",
       "      <th>1563710</th>\n",
       "      <td>13614697</td>\n",
       "      <td>Education in Brazil</td>\n",
       "      <td>NaN</td>\n",
       "    </tr>\n",
       "    <tr>\n",
       "      <th>1563711</th>\n",
       "      <td>13614696</td>\n",
       "      <td>Qormi</td>\n",
       "      <td>NaN</td>\n",
       "    </tr>\n",
       "    <tr>\n",
       "      <th>1563712</th>\n",
       "      <td>5902525</td>\n",
       "      <td>Hitta J3</td>\n",
       "      <td>NaN</td>\n",
       "    </tr>\n",
       "    <tr>\n",
       "      <th>1563713</th>\n",
       "      <td>20537377</td>\n",
       "      <td>Cambodian jungle girl</td>\n",
       "      <td>NaN</td>\n",
       "    </tr>\n",
       "  </tbody>\n",
       "</table>\n",
       "<p>1563714 rows × 3 columns</p>\n",
       "</div>"
      ],
      "text/plain": [
       "         Unnamed: 0                                  page_title journal_name\n",
       "0          27568282                             Aceria clianthi         Weta\n",
       "1          24637003                         Thirdperson pronoun            w\n",
       "2           1511789                                 Eoentelodon       transl\n",
       "3          27129331                             Madanjeet Singh        subst\n",
       "4          24341983  List of television stations in Mississippi          req\n",
       "...             ...                                         ...          ...\n",
       "1563709    28154158                  Castlevania Rondo of Blood          NaN\n",
       "1563710    13614697                         Education in Brazil          NaN\n",
       "1563711    13614696                                       Qormi          NaN\n",
       "1563712     5902525                                    Hitta J3          NaN\n",
       "1563713    20537377                       Cambodian jungle girl          NaN\n",
       "\n",
       "[1563714 rows x 3 columns]"
      ]
     },
     "execution_count": 23,
     "metadata": {},
     "output_type": "execute_result"
    }
   ],
   "source": [
    "df_journal"
   ]
  },
  {
   "cell_type": "code",
   "execution_count": 20,
   "id": "7959d88d-015c-4b85-96e5-46620e91ba28",
   "metadata": {},
   "outputs": [
    {
     "data": {
      "text/plain": [
       "Index(['page_title', 'journal_name'], dtype='object')"
      ]
     },
     "execution_count": 20,
     "metadata": {},
     "output_type": "execute_result"
    }
   ],
   "source": [
    "df_journal.columns"
   ]
  },
  {
   "cell_type": "code",
   "execution_count": null,
   "id": "95518cf8-8b26-48e8-8819-611822a6c3ac",
   "metadata": {},
   "outputs": [],
   "source": [
    "df_num_citations = df_journal[['journal_name']].value_counts().reset_index(name='num_citation')\n",
    "df_num_citations.head(50)"
   ]
  },
  {
   "cell_type": "code",
   "execution_count": null,
   "id": "574ffee9-ff89-4e0b-935f-eff0863dfe20",
   "metadata": {},
   "outputs": [],
   "source": [
    "df_num_citations.to_csv(r'df_num_citations.csv')"
   ]
  },
  {
   "cell_type": "code",
   "execution_count": null,
   "id": "d1e28e26-5074-4572-8934-829bf17e916a",
   "metadata": {},
   "outputs": [],
   "source": [
    "g = nx.Graph()"
   ]
  },
  {
   "cell_type": "markdown",
   "id": "0b7e7429",
   "metadata": {},
   "source": [
    "# Draw Network"
   ]
  },
  {
   "cell_type": "code",
   "execution_count": null,
   "id": "dc8b0dc1-ef63-4dda-9b20-770f4dbde44e",
   "metadata": {},
   "outputs": [],
   "source": [
    "# helper function used to draw the networks\n",
    "def draw_network(graph, seed=42):\n",
    "    d = dict(graph.degree)\n",
    "    weights = [graph[u][v]['weight'] for u,v in graph.edges]\n",
    "    nx.draw(graph, \n",
    "            pos=nx.spring_layout(graph, seed=seed, \n",
    "                                 #scale = 3, k=5/math.sqrt(g.order()) \n",
    "                                 ),\n",
    "            with_labels=True, \n",
    "            node_size=[w['weight'] for (_,_,w) in graph.edges(data=True)],\n",
    "            width=weights\n",
    "            )\n",
    "    \n",
    "    # for (u,v,w) in graph.edges(data=True):\n",
    "    #     print(w['weight'])"
   ]
  },
  {
   "cell_type": "code",
   "execution_count": null,
   "id": "82086f6c-1ffc-47bc-892d-1303c21190fc",
   "metadata": {},
   "outputs": [],
   "source": [
    "g.add_edges_from([['Stephen', 'Jenya'], ['Stephen', 'Beka'], ['Beka', 'Jenya']])\n",
    "g.add_edges_from([['Stephen', 'Jenya'], ['Stephen', 'Jenya']])\n",
    "g.add_nodes_from(['A'])\n",
    "#, 'Jenya'], ['Stephen', 'Beka'], ['Beka', 'Jenya']])\n",
    "draw_network(g)"
   ]
  },
  {
   "cell_type": "code",
   "execution_count": null,
   "id": "09d6180f-ea01-4a28-a1e1-1102f63eb210",
   "metadata": {},
   "outputs": [],
   "source": [
    "df_journal.nunique()"
   ]
  },
  {
   "cell_type": "code",
   "execution_count": null,
   "id": "42264cba-862f-44b4-bc04-53614c259396",
   "metadata": {},
   "outputs": [],
   "source": [
    "df_sample_journal_data = pd.DataFrame(np.array([['p1', 'j1'],['p1', 'j2'], ['p1', 'j3'], ['p2', 'j1'], ['p2', 'j2']]),\n",
    "                   columns=['page_title', 'journal_name'])\n",
    "df_sample_journal_data"
   ]
  },
  {
   "cell_type": "code",
   "execution_count": null,
   "id": "31dbecf6-339f-4657-89b2-81f66de820b4",
   "metadata": {},
   "outputs": [],
   "source": [
    "# df_groupby = df_sample_journal_data.groupby('page_title')['journal_name'].apply(lambda x: ', '.join(x))\n",
    "df_groupby = df_sample_journal_data.groupby('page_title')['journal_name'].apply(list)\n",
    "\n",
    "df_groupby"
   ]
  },
  {
   "cell_type": "code",
   "execution_count": null,
   "id": "57eb117a-e222-4458-b7b8-ea72349fbf75",
   "metadata": {},
   "outputs": [],
   "source": [
    "iterations_sample = itertools.combinations(df_groupby['p1'], 2)\n",
    "print(iterations_sample)\n",
    "for i in iterations_sample:\n",
    "    print(i)"
   ]
  },
  {
   "cell_type": "code",
   "execution_count": null,
   "id": "8b51c3f2-bf90-4587-a215-8057fcf4faa3",
   "metadata": {},
   "outputs": [],
   "source": [
    "df_groupby = df_journal.groupby('page_title')['journal_name'].apply(list)\n",
    "df_groupby"
   ]
  },
  {
   "cell_type": "code",
   "execution_count": null,
   "id": "f0d36998-e673-4f53-99aa-afca6f2d3cea",
   "metadata": {},
   "outputs": [],
   "source": [
    "# find combination of all the journal name\n",
    "\n",
    "iterations = itertools.combinations(df_groupby[2], 2)\n",
    "\n",
    "for combi in iterations: \n",
    "    print(combi)"
   ]
  },
  {
   "cell_type": "code",
   "execution_count": null,
   "id": "800b3609-360d-43c7-b819-95b409a9714f",
   "metadata": {},
   "outputs": [],
   "source": [
    "# make list iterations based on the combinations\n",
    "\n",
    "journal_relation_list = []\n",
    "\n",
    "for page in range(len(df_groupby)):\n",
    "    iterations = itertools.combinations(df_groupby[page], 2)\n",
    "    for iter in iterations:\n",
    "        journal_relation_list.append(iter)\n",
    "\n",
    "#journal_relation_list\n"
   ]
  },
  {
   "cell_type": "code",
   "execution_count": null,
   "id": "d009a2eb-639c-46d0-a6e3-d57f4ce55f14",
   "metadata": {},
   "outputs": [],
   "source": [
    "df1 = pd.DataFrame (journal_relation_list, columns = ['journal1', 'journal2'])\n",
    "df1"
   ]
  },
  {
   "cell_type": "code",
   "execution_count": null,
   "id": "ae2635c8-cb1b-47f0-ac4e-e632c5a96dbd",
   "metadata": {},
   "outputs": [],
   "source": [
    "df1['journal1'] = df1['journal1'].astype(str)\n",
    "df1['journal2'] = df1['journal2'].astype(str)\n",
    "df1"
   ]
  },
  {
   "cell_type": "code",
   "execution_count": null,
   "id": "f0855df8-d5fa-4d77-9462-b740417753be",
   "metadata": {},
   "outputs": [],
   "source": [
    "df2 = df1[['journal1','journal2']] = pd.DataFrame(np.sort(df1[['journal1','journal2']].values), \n",
    "                                 index=df1.index, columns=['journal1','journal2'])\n",
    "df2"
   ]
  },
  {
   "cell_type": "code",
   "execution_count": null,
   "id": "2d348526-3261-4e04-a97c-d10cbeddf35d",
   "metadata": {},
   "outputs": [],
   "source": [
    "df3 = df2[['journal1', 'journal2']].value_counts().reset_index(name='weight')\n",
    "df3.head(20)"
   ]
  },
  {
   "cell_type": "code",
   "execution_count": null,
   "id": "56bd3eec-5f3a-40e7-854f-dbcf33e5990c",
   "metadata": {},
   "outputs": [],
   "source": [
    "df3 = df3[df3.weight>=200]\n",
    "df3"
   ]
  },
  {
   "cell_type": "code",
   "execution_count": null,
   "id": "e5623874-5154-4a66-8aed-35c5f1d88d33",
   "metadata": {},
   "outputs": [],
   "source": [
    "df3.nunique()"
   ]
  },
  {
   "cell_type": "code",
   "execution_count": null,
   "id": "3bd6e6b8-82ae-44ef-ad5d-0ad8128568e5",
   "metadata": {},
   "outputs": [],
   "source": [
    "df3.to_csv(r'df3_weights.csv')"
   ]
  },
  {
   "cell_type": "code",
   "execution_count": null,
   "id": "1004af37-f179-4d0f-9756-bf6570acd24c",
   "metadata": {},
   "outputs": [],
   "source": [
    "df3.hist(column='weight')"
   ]
  },
  {
   "cell_type": "code",
   "execution_count": null,
   "id": "f9590b1f-ab91-4a82-a01a-b23cadeb69b0",
   "metadata": {},
   "outputs": [],
   "source": [
    "from matplotlib.pyplot import figure\n",
    "figure(figsize=(10, 8))\n",
    "nx.draw_shell(G, with_labels=True)"
   ]
  },
  {
   "cell_type": "markdown",
   "id": "db7328d2",
   "metadata": {},
   "source": [
    "# Path Finder"
   ]
  },
  {
   "cell_type": "code",
   "execution_count": null,
   "id": "94cd7d2f-f280-436c-a9e9-37bc50937dd3",
   "metadata": {},
   "outputs": [],
   "source": [
    "def minimal_pathfinder(G, r = float(\"inf\")):\n",
    "    \"\"\" \n",
    "    Args:\n",
    "    -----\n",
    "    G [networkX graph]:\n",
    "        Graph to filter links from.\n",
    "    r [float]:\n",
    "        \"r\" parameter as in the paper.\n",
    "\n",
    "    Returns:\n",
    "    -----\n",
    "    PFNET [networkX graph]:\n",
    "        Graph containing only the PFNET links.\n",
    "    \"\"\"\n",
    "    \n",
    "    import networkx as nx\n",
    "    from collections import defaultdict\n",
    "    \n",
    "    H = G.copy()\n",
    "    \n",
    "    # Initialize adjacency matrix W\n",
    "    W = defaultdict(lambda: defaultdict(lambda: float(\"inf\")))\n",
    "    \n",
    "    # Set diagonal to 0\n",
    "    for u in H.nodes():\n",
    "        W[u][u] = 0 \n",
    "    \n",
    "    # Get weights and set W values\n",
    "    for i, j, d in H.edges(data=True):\n",
    "        W[i][j] = d['weight'] # Add weights to W\n",
    "        \n",
    "    # Get shortest path distance matrix D\n",
    "    dist = nx.floyd_warshall_predecessor_and_distance(H, weight='weight')[1]\n",
    "    \n",
    "    # Iterate over all triples to get values for D\n",
    "    for k in H.nodes():\n",
    "        for i in H.nodes():\n",
    "            for j in H.nodes():\n",
    "                if r == float(\"inf\"): # adapted from the R-comato version which does a similar check\n",
    "                # Discard non-shortest paths\n",
    "                    dist[i][j] = min(dist[i][j], (dist[i][k] + dist[k][j]))\n",
    "                else:\n",
    "                    dist[i][j] = min(dist[i][j], (((dist[i][k]) ** r) + ((dist[k][j]) ** r )) ** (1/r))\n",
    "                \n",
    "    # Check for type; set placeholder for either case\n",
    "    if not H.is_directed():\n",
    "        PFNET = nx.Graph()\n",
    "        PFNET.add_nodes_from(H.nodes(data=True))\n",
    "    else:\n",
    "        PFNET = nx.DiGraph()\n",
    "        PFNET.add_nodes_from(H.nodes(data=True))\n",
    "        \n",
    "    # Add links D_ij only if == W_ij\n",
    "    for i in H.nodes():\n",
    "        for j in H.nodes():\n",
    "            if dist[i][j] == W[i][j]: # If shortest path distance equals distance in adjacency\n",
    "                if dist[i][j] == float(\"inf\"): # Skip infinite path lengths\n",
    "                    pass\n",
    "                elif i == j: # Skip the diagonal\n",
    "                    pass\n",
    "                else: # Add link to PFNET\n",
    "                    weight = dist[i][j]\n",
    "                    PFNET.add_edge(i, j, weight=weight)\n",
    "                    \n",
    "    return PFNET"
   ]
  },
  {
   "cell_type": "code",
   "execution_count": null,
   "id": "caa6034c-1199-4293-8273-e0839942c209",
   "metadata": {},
   "outputs": [],
   "source": [
    "df4=df3.head(100)\n",
    "G = nx.from_pandas_edgelist(df4, 'journal1', 'journal2', 'weight')"
   ]
  },
  {
   "cell_type": "code",
   "execution_count": null,
   "id": "7389de60-981b-45cd-98a5-9af166d46f44",
   "metadata": {},
   "outputs": [],
   "source": [
    "draw_network(G)"
   ]
  },
  {
   "cell_type": "code",
   "execution_count": null,
   "id": "3b9eef83-f830-4fad-a93b-2569708f465c",
   "metadata": {},
   "outputs": [],
   "source": [
    "PFNET = minimal_pathfinder(G)\n",
    "print(nx.info(G))\n",
    "print(nx.info(PFNET))"
   ]
  },
  {
   "cell_type": "code",
   "execution_count": null,
   "id": "829d8a49-f9ca-4207-a305-45e6dd7512e8",
   "metadata": {},
   "outputs": [],
   "source": [
    "draw_network(PFNET)"
   ]
  },
  {
   "cell_type": "code",
   "execution_count": null,
   "id": "12218f0d-952b-4178-8a4d-e7ade232c4e9",
   "metadata": {},
   "outputs": [],
   "source": [
    "nx.write_gexf(PFNET, \"PFNET.gexf\")"
   ]
  },
  {
   "cell_type": "code",
   "execution_count": null,
   "id": "dae16e06-9043-4277-8372-28cef642df66",
   "metadata": {},
   "outputs": [],
   "source": [
    "nx.write_edgeList(PFNET, 'PFNET.csv', delimeter = ',', data = ['weight'])"
   ]
  },
  {
   "cell_type": "code",
   "execution_count": null,
   "id": "61056a1f-9497-4453-8c01-3bbfc414352c",
   "metadata": {},
   "outputs": [],
   "source": [
    "G = nx.complete_graph(50) # Generate a complete graph\n",
    "\n",
    "# Add random weights\n",
    "for (u,v,w) in G.edges(data=True):\n",
    "    w['weight'] = np.random.randint(1,20)\n",
    "    \n",
    "PFNET = minimal_pathfinder(G)\n",
    "\n",
    "print(nx.info(G))\n",
    "print(nx.info(PFNET))"
   ]
  },
  {
   "cell_type": "code",
   "execution_count": null,
   "id": "9e56a885-b7dc-4f87-8955-20c44b697904",
   "metadata": {},
   "outputs": [],
   "source": [
    "# for (u,v,w) in G.edges(data=True):\n",
    "#     print (w)"
   ]
  }
 ],
 "metadata": {
  "kernelspec": {
   "display_name": "Python 3.9.12 ('deepl')",
   "language": "python",
   "name": "python3"
  },
  "language_info": {
   "codemirror_mode": {
    "name": "ipython",
    "version": 3
   },
   "file_extension": ".py",
   "mimetype": "text/x-python",
   "name": "python",
   "nbconvert_exporter": "python",
   "pygments_lexer": "ipython3",
   "version": "3.9.12"
  },
  "vscode": {
   "interpreter": {
    "hash": "93bd2c6d1229dba9a3c0d32d7aeccbd4c160cef48d8f79f42e17484bad5d696f"
   }
  }
 },
 "nbformat": 4,
 "nbformat_minor": 5
}
